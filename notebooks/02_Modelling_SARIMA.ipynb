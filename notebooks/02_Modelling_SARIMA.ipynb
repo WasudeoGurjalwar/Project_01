{
 "cells": [
  {
   "cell_type": "code",
   "execution_count": 1,
   "metadata": {},
   "outputs": [],
   "source": [
    "from IPython.core.interactiveshell import InteractiveShell\n",
    "InteractiveShell.ast_node_interactivity = \"all\""
   ]
  },
  {
   "cell_type": "code",
   "execution_count": null,
   "metadata": {},
   "outputs": [
    {
     "name": "stderr",
     "output_type": "stream",
     "text": [
      "/Users/praveenp/Documents/Projects/Project_01/.venv/lib/python3.9/site-packages/urllib3/__init__.py:35: NotOpenSSLWarning: urllib3 v2 only supports OpenSSL 1.1.1+, currently the 'ssl' module is compiled with 'LibreSSL 2.8.3'. See: https://github.com/urllib3/urllib3/issues/3020\n",
      "  warnings.warn(\n"
     ]
    }
   ],
   "source": [
    "import os\n",
    "import random\n",
    "from yaml import safe_load\n",
    "from pandas import read_csv, DataFrame, pivot_table\n",
    "import numpy as np\n",
    "import matplotlib.pyplot as plt\n",
    "\n",
    "from statsmodels.tsa.stattools import adfuller\n",
    "from statsmodels.tsa.statespace.sarimax import SARIMAX\n",
    "from pmdarima.arima import auto_arima\n",
    "from sklearn.metrics import mean_squared_error"
   ]
  },
  {
   "cell_type": "markdown",
   "metadata": {},
   "source": [
    "### Function - Extract Series for Modelling\n",
    "\n",
    "- **Purpose** = Read processed CSV file from \"../data/processed\" and convert to series (for any one location).\n",
    "Additional processing of series are\n",
    "\n",
    "    - Check the stationarity of series.\n",
    "\n",
    "    - If not stationary (with 95% confidence) then differentiate series.\n",
    "\n",
    "    - Even after 2 differentitation of series, if series is not stationary then STOP.\n",
    "\n",
    "- **Input** = Dataframe, location ID (0 to 299), and variable.\n",
    "\n",
    "    - For daily data, variables are rain, tmin, tmax\n",
    "\n",
    "    - For monthly data, variables are rain_sum, rain_mean, rain_std, tmin_mean, tmin_std, tmax_mean, tmax_std\n",
    "\n",
    "- **Output** = Three output from function are\n",
    "\n",
    "    - series extract for given location and varaible.\n",
    "    \n",
    "    - d value for SARIMA model.\n",
    "\n",
    "    - D value for SARIMA model."
   ]
  },
  {
   "cell_type": "code",
   "execution_count": 3,
   "metadata": {},
   "outputs": [],
   "source": [
    "# Function - Check stationarity for given values of d and D values\n",
    "def check_stationarity(series, d=0, D=0, m=1):\n",
    "    # Check for d value\n",
    "    if d != 0:\n",
    "        for id_ in range(d):\n",
    "            series = np.diff(series, n=1)\n",
    "    \n",
    "    # Check for D value\n",
    "    if D != 0:\n",
    "        for id_ in range(D):\n",
    "            series = np.diff(series, n=m)\n",
    "    \n",
    "    # Print out results for stationarity\n",
    "    print('\\nGiven (d, D) set = ' + str(d) + ' and ' + str(D))\n",
    "    print(\"Stationarity P score = \", adfuller(series)[1])\n",
    "    \n",
    "    if adfuller(series)[1] <= 0.05: \n",
    "        return True\n",
    "    else:\n",
    "        return False"
   ]
  },
  {
   "cell_type": "code",
   "execution_count": 4,
   "metadata": {},
   "outputs": [],
   "source": [
    "# Function - Extract series of given location and variable from CSV file\n",
    "def extract_series(df, pos, var, dChoices, m=1):\n",
    "    global configDatabase\n",
    "    \n",
    "    # Extract Relevant Data\n",
    "    series = df[df.pos == pos][var]\n",
    "    series.reset_index(inplace=True, drop=True)\n",
    "    \n",
    "    # Dickey-Fuller test for stationarity\n",
    "    # P value must be less than 0.05 (for serier to be stationalry)\n",
    "    flag = check_stationarity(series)\n",
    "    \n",
    "    # Estimate value of d and D for SARIMA\n",
    "    if flag:\n",
    "        d = D = 0\n",
    "    else:\n",
    "        for dval in dChoices:\n",
    "            d, D = dval\n",
    "            flag = check_stationarity(series, d, D, m)\n",
    "            if flag:\n",
    "                break\n",
    "    if not flag:\n",
    "        \"ERROR: Given (d, D) sets are not viable.\"\n",
    "\n",
    "    return series, d, D"
   ]
  },
  {
   "cell_type": "markdown",
   "metadata": {},
   "source": [
    "### Function - Extract Averaged Series\n",
    "\n",
    "- **Purpose** = Extract series which is averaged across all locations in india\n",
    "\n",
    "- **Inputs** = Dataframe; Variable to be consider; Index used for averaging\n",
    "\n",
    "    - For daily data, variables are rain, tmin, tmax\n",
    "\n",
    "    - For monthly data, variables are rain_sum, rain_mean, rain_std, tmin_mean, tmin_std, tmax_mean, tmax_std\n",
    "\n",
    "- **Output** = Three output from function are\n",
    "\n",
    "    - series extract for given location and varaible.\n",
    "    \n",
    "    - d value for SARIMA model.\n",
    "\n",
    "    - D value for SARIMA model."
   ]
  },
  {
   "cell_type": "code",
   "execution_count": 5,
   "metadata": {},
   "outputs": [],
   "source": [
    "# Function - Extract Averaged Series\n",
    "def extract_avg_series(df, var, index, dChoices, m=1):\n",
    "    global configDatabase\n",
    "    \n",
    "    # Pivot table to get averaged value\n",
    "    table = pivot_table(df, values=var, index=index, aggfunc=\"mean\")\n",
    "    table.reset_index(inplace=True)\n",
    "    series = table[var]\n",
    "    series.reset_index(inplace=True, drop=True)\n",
    "    \n",
    "    # Dickey-Fuller test for stationarity\n",
    "    # P value must be less than 0.05 (for serier to be stationalry)\n",
    "    flag = check_stationarity(series)\n",
    "    \n",
    "    # Estimate value of d and D for SARIMA\n",
    "    if flag:\n",
    "        d = D = 0\n",
    "    else:\n",
    "        for dval in dChoices:\n",
    "            d, D = dval\n",
    "            flag = check_stationarity(series, d, D, m)\n",
    "            if flag:\n",
    "                break\n",
    "    if not flag:\n",
    "        \"ERROR: Given (d, D) sets are not viable.\"\n",
    "\n",
    "    return series, d, D\n",
    "    "
   ]
  },
  {
   "cell_type": "markdown",
   "metadata": {},
   "source": [
    "### Function - SARIMA Model Estimation\n",
    "\n",
    "- **Purpose** = Get best fit SARIMA model for given series. \n",
    "\n",
    "- **Input** = Various inputs are\n",
    "\n",
    "    - Series used for SARIMA modeling.\n",
    "\n",
    "    - d, D, and m value for SARIMA modeling.\n",
    "\n",
    "    - *show_stats* - If \"True\" then show the model summary; plot validation and prediction.\n",
    "\n",
    "- **Output** = Optimal parameters for SARIMA model. Also get MSE for training and testing."
   ]
  },
  {
   "cell_type": "code",
   "execution_count": 6,
   "metadata": {},
   "outputs": [],
   "source": [
    "# Function - SARIMA Model Estimation\n",
    "def model_sarima(series, d, D, m, show_stats=False):\n",
    "    # Convert series into training and validation set\n",
    "    endID = len(series)\n",
    "    cutID = int(0.7*endID)\n",
    "    trainSeries = series[:cutID]\n",
    "    validateSeries = series[cutID:]\n",
    "    \n",
    "    # SMARIMA parameter estimation\n",
    "    SARIMA_model = auto_arima(trainSeries, \n",
    "                              start_p=0, start_q=0, max_p=5, max_q=5, d=d, \n",
    "                              start_P=0, start_Q=0, max_P=5, max_Q=5, D=D, m=m, \n",
    "                              test='adf', seasonal=True, trace=False, \n",
    "                              error_action='ignore', suppress_warnings=True, stepwise=True)\n",
    "    param = (SARIMA_model.get_params()['order'], SARIMA_model.get_params()['seasonal_order'])\n",
    "    if show_stats:\n",
    "        print(SARIMA_model.summary())\n",
    "    \n",
    "    # Build SARIMA Model\n",
    "    SARIMA_model = SARIMAX(trainSeries, order=param[0], seasonal_order=param[1], simple_differencing=False)\n",
    "    SARIMA_model_fit = SARIMA_model.fit(disp=False)\n",
    "    trainMSE = np.round(SARIMA_model_fit.mse,3)\n",
    "    \n",
    "    # Validate \n",
    "    SARIMA_pred = SARIMA_model_fit.get_prediction(cutID+1, endID).predicted_mean\n",
    "    validateMSE = np.round(mean_squared_error(validateSeries, SARIMA_pred),3)\n",
    "    if show_stats:\n",
    "        fig, ax = plt.subplots()\n",
    "        ax.plot(validateSeries, 'b-', label='actual')\n",
    "        ax.plot(SARIMA_pred, 'g-', label='SARIMA pred')\n",
    "        ax.set_xlabel('X Axis')\n",
    "        ax.set_ylabel('Y Axis')\n",
    "        ax.legend()\n",
    "        ax.set_xlim(cutID-10, endID+10)\n",
    "        plt.tight_layout()\n",
    "    \n",
    "    return SARIMA_model_fit, param, trainMSE, validateMSE"
   ]
  },
  {
   "cell_type": "markdown",
   "metadata": {},
   "source": [
    "### Function - Single Location Modelling\n",
    "\n",
    "- **Purpose** = SARIMA modelling for single location.\n",
    "\n",
    "- **Input** = Dataframe and variable.\n",
    "\n",
    "- **Output** = Optimal parameter for SARIMA, MSE for training, and MSE for Validation."
   ]
  },
  {
   "cell_type": "code",
   "execution_count": 7,
   "metadata": {},
   "outputs": [],
   "source": [
    "# Function - SARIMA modelling for single location\n",
    "def model_single_loc(df, var, m):\n",
    "    global configDatabase\n",
    "    \n",
    "    # Local Varaibles\n",
    "    random.seed(configDatabase['seed'])\n",
    "    pos = df.pos.unique()[random.randint(0, configDatabase['posCount'])]\n",
    "    #pos = df.pos.unique()[149]\n",
    "    \n",
    "    # Extract series from dataframe \n",
    "    rainMean, d, D = extract_series(df, pos=pos, var=var, dChoices=configDatabase['SAMIRA']['dChoices'], m=m)\n",
    "    \n",
    "    # Get optimal parameter for SARIMA\n",
    "    model, param, mse01, mse02 = model_sarima(rainMean, d, D, m, show_stats=True)\n",
    "    print(\"\\nSARIMA optimal parameter = \", param)\n",
    "    print(\"Training MSE = \" + str(mse01) + \" and Validation MSE = \" + str(mse02))\n",
    "    return model"
   ]
  },
  {
   "cell_type": "markdown",
   "metadata": {},
   "source": [
    "### Function - Multiple Location Modelling\n",
    "\n",
    "- **Purpose** = SARIMA modelling for multiple location.\n",
    "\n",
    "- **Input** = \n",
    "\n",
    "- **Output** = CSV file containing\n",
    "\n",
    "    - *pos* = Tuple of Latitude and Longitude.\n",
    "    \n",
    "    - *param* = Optimal parameters for SARIMA model.\n",
    "    \n",
    "    - *tainMSE* = MSE for Training.\n",
    "    \n",
    "    - *valMSE* = MSE for Validation."
   ]
  },
  {
   "cell_type": "code",
   "execution_count": 8,
   "metadata": {},
   "outputs": [],
   "source": [
    "# Function - SARIMA modelling for multiple location\n",
    "def model_multiple_loc(df, var, m, fileName):\n",
    "    global configDatabase\n",
    "    \n",
    "    # Initiaze Empty Database\n",
    "    dfMonthly = DataFrame(columns=['pos', 'param', 'trainMSE', 'valMSE'])\n",
    "    \n",
    "    for posVal in df.pos.unique():\n",
    "        # Extract series from dataframe\n",
    "        rainMean, d, D = extract_series(df, pos=posVal, var=var, dChoices=configDatabase['SAMIRA']['dChoices'], m=m)\n",
    "        \n",
    "        # Get optimal parameter for SARIMA\n",
    "        model, param, mse01, mse02 = model_sarima(rainMean, d, D, m, show_stats=False)\n",
    "        dfMonthly.loc[len(dfMonthly.index)] = [posVal, param, mse01, mse02]\n",
    "        \n",
    "        # Save dataframe for optimal parameters dor each location\n",
    "        dfMonthly.to_csv(fileName, index=False)"
   ]
  },
  {
   "cell_type": "markdown",
   "metadata": {},
   "source": [
    "### Function - Averaged across Location Modelling\n",
    "\n",
    "- **Purpose** = SARIMA modelling for average data across location.\n",
    "\n",
    "- **Input** = Dataframe ; variable for modelling ; index for averaging.\n",
    "\n",
    "- **Output** = Optimal parameter for SARIMA, MSE for training, and MSE for Validation."
   ]
  },
  {
   "cell_type": "code",
   "execution_count": 9,
   "metadata": {},
   "outputs": [],
   "source": [
    "# Function - \n",
    "def model_avg_loc(df, var, index, m):\n",
    "    global configDatabase\n",
    "    \n",
    "    # Extract series from dataframe \n",
    "    rainMean, d, D = extract_avg_series(df, var, index, dChoices=configDatabase['SAMIRA']['dChoices'], m=m)\n",
    "    \n",
    "    # Get optimal parameter for SARIMA\n",
    "    model, param, mse01, mse02 = model_sarima(rainMean, d, D, m, show_stats=True)\n",
    "    print(\"\\nSARIMA optimal parameter = \", param)\n",
    "    print(\"Training MSE = \" + str(mse01) + \" and Validation MSE = \" + str(mse02))\n",
    "    return model\n",
    "    "
   ]
  },
  {
   "cell_type": "markdown",
   "metadata": {},
   "source": [
    "## Main Code"
   ]
  },
  {
   "cell_type": "code",
   "execution_count": null,
   "metadata": {},
   "outputs": [
    {
     "name": "stdout",
     "output_type": "stream",
     "text": [
      "\n",
      "Given (d, D) set = 0 and 0\n",
      "Stationarity P score =  0.007786625112684367\n",
      "                                   SARIMAX Results                                   \n",
      "=====================================================================================\n",
      "Dep. Variable:                             y   No. Observations:                  168\n",
      "Model:             SARIMAX(1, 0, [1, 2], 12)   Log Likelihood                -228.160\n",
      "Date:                       Thu, 21 Nov 2024   AIC                            466.321\n",
      "Time:                               21:49:58   BIC                            481.941\n",
      "Sample:                                    0   HQIC                           472.660\n",
      "                                       - 168                                         \n",
      "Covariance Type:                         opg                                         \n",
      "==============================================================================\n",
      "                 coef    std err          z      P>|z|      [0.025      0.975]\n",
      "------------------------------------------------------------------------------\n",
      "intercept      0.0054      0.008      0.722      0.470      -0.009       0.020\n",
      "ar.S.L12       0.9982      0.002    504.406      0.000       0.994       1.002\n",
      "ma.S.L12      -0.9364      0.069    -13.582      0.000      -1.072      -0.801\n",
      "ma.S.L24       0.1532      0.067      2.290      0.022       0.022       0.284\n",
      "sigma2         0.6800      0.061     11.197      0.000       0.561       0.799\n",
      "===================================================================================\n",
      "Ljung-Box (L1) (Q):                   0.00   Jarque-Bera (JB):                25.51\n",
      "Prob(Q):                              0.96   Prob(JB):                         0.00\n",
      "Heteroskedasticity (H):               1.09   Skew:                             0.02\n",
      "Prob(H) (two-sided):                  0.74   Kurtosis:                         4.91\n",
      "===================================================================================\n",
      "\n",
      "Warnings:\n",
      "[1] Covariance matrix calculated using the outer product of gradients (complex-step).\n"
     ]
    },
    {
     "name": "stderr",
     "output_type": "stream",
     "text": [
      "/Users/praveenp/Documents/Projects/Project_01/.venv/lib/python3.9/site-packages/statsmodels/tsa/statespace/sarimax.py:997: UserWarning: Non-stationary starting seasonal autoregressive Using zeros as starting parameters.\n",
      "  warn('Non-stationary starting seasonal autoregressive'\n",
      "/Users/praveenp/Documents/Projects/Project_01/.venv/lib/python3.9/site-packages/statsmodels/tsa/statespace/sarimax.py:1009: UserWarning: Non-invertible starting seasonal moving average Using zeros as starting parameters.\n",
      "  warn('Non-invertible starting seasonal moving average'\n"
     ]
    },
    {
     "name": "stdout",
     "output_type": "stream",
     "text": [
      "\n",
      "SARIMA optimal parameter =  ((0, 0, 0), (1, 0, 2, 12))\n",
      "Training MSE = 1.808 and Validation MSE = 4.555\n"
     ]
    },
    {
     "data": {
      "image/png": "[encoded data removed]",
      "text/plain": [
       "<Figure size 640x480 with 1 Axes>"
      ]
     },
     "metadata": {},
     "output_type": "display_data"
    }
   ],
   "source": [
    "# Main Code\n",
    "# Options for runType -> 1 = One Location ; 2 = Multiple Location ; 3 = Averaged Across Locations\n",
    "runType = 3\n",
    "# Options for dataType -> 1 = Daily ; 2 -> Monthly\n",
    "dataType = 2\n",
    "configDatabase = safe_load(open(\"../config.yaml\"))\n",
    "m = 12\n",
    "\n",
    "if dataType == 1:\n",
    "    var = 'rain'\n",
    "    index = 'day'\n",
    "    df = read_csv(os.path.join(configDatabase['dir']['dataProcess'], configDatabase['file']['train01']), compression='gzip')\n",
    "    fileName = os.path.join(configDatabase['dir']['model'], configDatabase['file']['sarima01'])\n",
    "    fileName = fileName.replace('.csv', '_final.csv')\n",
    "else:\n",
    "    var = 'rain_mean'\n",
    "    index = 'monthID'\n",
    "    df = read_csv(os.path.join(configDatabase['dir']['dataProcess'], configDatabase['file']['train02']), compression='gzip')\n",
    "    fileName = os.path.join(configDatabase['dir']['model'], configDatabase['file']['sarima02'])\n",
    "    fileName = fileName.replace('.csv', '_final.csv')\n",
    "\n",
    "if runType == 1:\n",
    "    model = model_single_loc(df, var, m)\n",
    "    model.save(os.path.join(configDatabase['dir']['model'], configDatabase['SAMIRA']['modelMonthlySingle']))\n",
    "elif runType == 2:\n",
    "    model_multiple_loc(df, var, m, fileName)\n",
    "else:\n",
    "    model = model_avg_loc(df, var, index, m)\n",
    "    model.save(os.path.join(configDatabase['dir']['model'], configDatabase['SAMIRA']['modelMonthlyAvg']))\n"
   ]
  },
  {
   "cell_type": "code",
   "execution_count": null,
   "metadata": {},
   "outputs": [],
   "source": []
  }
 ],
 "metadata": {
  "kernelspec": {
   "display_name": ".venv",
   "language": "python",
   "name": "python3"
  },
  "language_info": {
   "codemirror_mode": {
    "name": "ipython",
    "version": 3
   },
   "file_extension": ".py",
   "mimetype": "text/x-python",
   "name": "python",
   "nbconvert_exporter": "python",
   "pygments_lexer": "ipython3",
   "version": "3.9.6"
  }
 },
 "nbformat": 4,
 "nbformat_minor": 2
}
