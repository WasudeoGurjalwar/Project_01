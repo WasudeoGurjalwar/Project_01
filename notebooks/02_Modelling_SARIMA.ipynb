{
 "cells": [
  {
   "cell_type": "code",
   "execution_count": 10,
   "metadata": {},
   "outputs": [],
   "source": [
    "from IPython.core.interactiveshell import InteractiveShell\n",
    "InteractiveShell.ast_node_interactivity = \"all\""
   ]
  },
  {
   "cell_type": "markdown",
   "metadata": {},
   "source": [
    "## SECTION - DATA STATIONARITY"
   ]
  },
  {
   "cell_type": "code",
   "execution_count": 11,
   "metadata": {},
   "outputs": [],
   "source": [
    "import os\n",
    "from yaml import safe_load\n",
    "from pandas import read_csv"
   ]
  },
  {
   "cell_type": "markdown",
   "metadata": {},
   "source": [
    "### Function - Read Data"
   ]
  },
  {
   "cell_type": "code",
   "execution_count": 17,
   "metadata": {},
   "outputs": [],
   "source": [
    "def my_func(fileName, posID, var):\n",
    "    # Read CSV File\n",
    "    df = read_csv(fileName, compression='gzip')\n",
    "    pos = df.pos.unique()[posID]\n",
    "    \n",
    "    # Extract Relevant Data\n",
    "    series = df[df.pos == pos][var]\n",
    "    \n",
    "    return series"
   ]
  },
  {
   "cell_type": "code",
   "execution_count": 21,
   "metadata": {},
   "outputs": [
    {
     "data": {
      "text/plain": [
       "0        5.298247\n",
       "300     22.640348\n",
       "600      1.785003\n",
       "900     77.800678\n",
       "1200    25.860315\n",
       "Name: rain_sum, dtype: float64"
      ]
     },
     "execution_count": 21,
     "metadata": {},
     "output_type": "execute_result"
    },
    {
     "data": {
      "text/plain": [
       "count     240.000000\n",
       "mean      161.880709\n",
       "std       188.770823\n",
       "min         0.000000\n",
       "25%        17.447263\n",
       "50%        87.182118\n",
       "75%       243.707713\n",
       "max      1038.555983\n",
       "Name: rain_sum, dtype: float64"
      ]
     },
     "execution_count": 21,
     "metadata": {},
     "output_type": "execute_result"
    }
   ],
   "source": [
    "# Main Code\n",
    "configDatabase = safe_load(open(\"../config.yaml\"))\n",
    "#configDatabase\n",
    "\n",
    "fileName = os.path.join(configDatabase['dir']['dataProcess'], configDatabase['file']['train02'])\n",
    "\n",
    "\n",
    "\n",
    "series = my_func(fileName, posID=0, var='rain_sum')\n",
    "series.head()\n",
    "series.describe()"
   ]
  },
  {
   "cell_type": "code",
   "execution_count": null,
   "metadata": {},
   "outputs": [],
   "source": []
  }
 ],
 "metadata": {
  "kernelspec": {
   "display_name": ".venv",
   "language": "python",
   "name": "python3"
  },
  "language_info": {
   "codemirror_mode": {
    "name": "ipython",
    "version": 3
   },
   "file_extension": ".py",
   "mimetype": "text/x-python",
   "name": "python",
   "nbconvert_exporter": "python",
   "pygments_lexer": "ipython3",
   "version": "3.9.6"
  }
 },
 "nbformat": 4,
 "nbformat_minor": 2
}
